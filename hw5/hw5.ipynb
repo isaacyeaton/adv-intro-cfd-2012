{
 "metadata": {
  "name": "hw5"
 },
 "nbformat": 3,
 "nbformat_minor": 0,
 "worksheets": [
  {
   "cells": [
    {
     "cell_type": "code",
     "collapsed": false,
     "input": [
      "%pylab inline\n",
      "%load_ext sympyprinting"
     ],
     "language": "python",
     "metadata": {},
     "outputs": [
      {
       "output_type": "stream",
       "stream": "stdout",
       "text": [
        "\n",
        "Welcome to pylab, a matplotlib-based Python environment [backend: module://IPython.zmq.pylab.backend_inline].\n",
        "For more information, type 'help(pylab)'.\n"
       ]
      }
     ],
     "prompt_number": 11
    },
    {
     "cell_type": "code",
     "collapsed": false,
     "input": [
      "import numpy as np\n",
      "import matplotlib.pyplot as plt\n",
      "import sympy as sym\n",
      "\n",
      "from numba import autojit, jit, double"
     ],
     "language": "python",
     "metadata": {},
     "outputs": [],
     "prompt_number": 12
    },
    {
     "cell_type": "code",
     "collapsed": false,
     "input": [
      "a = 9.71e-5  # m^2/s"
     ],
     "language": "python",
     "metadata": {},
     "outputs": [],
     "prompt_number": 13
    },
    {
     "cell_type": "markdown",
     "metadata": {},
     "source": [
      "## Perform a code validation study\n",
      "\n",
      "Peform a code validation study using the steady-state manufactured soluation given by\n",
      "\n",
      "$$ T(x) = 300 + 200 \\sin(\\frac{3 \\pi x}{2 L}) K, \\mbox{  } L = 1m $$"
     ]
    },
    {
     "cell_type": "code",
     "collapsed": false,
     "input": [
      "def grid_pts(ngrid, x0=0, x1=1):\n",
      "    \"\"\"Return evenly spaced grid points over the given interval.\n",
      "    \n",
      "    Inputs:\n",
      "        ngrid (int) - number of grid points\n",
      "        x0 (float, optional) - start of grid\n",
      "        x1 (float, optional) - end of grid\n",
      "\n",
      "    Outputs:\n",
      "        grid (array of floats) - vector of grid points\n",
      "    \"\"\"\n",
      "    \n",
      "    return np.linspace(x0, x1, ngrid)"
     ],
     "language": "python",
     "metadata": {},
     "outputs": [],
     "prompt_number": 16
    },
    {
     "cell_type": "code",
     "collapsed": false,
     "input": [
      "def T(x, L=1):\n",
      "    \"\"\"SS solution of T(x).\n",
      "    \"\"\"\n",
      "    \n",
      "    return 300 + 200 * sin((3 * np.pi * x) / (2 * L))\n",
      "\n",
      "\n",
      "x0, x1 = 0, 1\n",
      "T0, T1 = T(x0), T(x1)\n",
      "\n",
      "print T0, T1"
     ],
     "language": "python",
     "metadata": {},
     "outputs": [
      {
       "output_type": "stream",
       "stream": "stdout",
       "text": [
        "300.0 100.0\n"
       ]
      }
     ],
     "prompt_number": 17
    },
    {
     "cell_type": "code",
     "collapsed": false,
     "input": [
      "ngrid = 5\n",
      "x = grid_pts(ngrid)\n",
      "T = np.ones(ngrid)\n",
      "\n",
      "for i in range(ngrid):\n",
      "    print i\n"
     ],
     "language": "python",
     "metadata": {},
     "outputs": [
      {
       "output_type": "stream",
       "stream": "stdout",
       "text": [
        "0\n",
        "1\n",
        "2\n",
        "3\n",
        "4\n"
       ]
      }
     ],
     "prompt_number": 19
    },
    {
     "cell_type": "code",
     "collapsed": false,
     "input": [],
     "language": "python",
     "metadata": {},
     "outputs": []
    }
   ],
   "metadata": {}
  }
 ]
}