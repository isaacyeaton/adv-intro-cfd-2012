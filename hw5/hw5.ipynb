{
 "metadata": {
  "name": "hw5"
 },
 "nbformat": 3,
 "nbformat_minor": 0,
 "worksheets": [
  {
   "cells": [
    {
     "cell_type": "code",
     "collapsed": false,
     "input": [
      "%pylab\n",
      "%load_ext sympyprinting"
     ],
     "language": "python",
     "metadata": {},
     "outputs": [
      {
       "output_type": "stream",
       "stream": "stdout",
       "text": [
        "\n",
        "Welcome to pylab, a matplotlib-based Python environment [backend: WXAgg].\n",
        "For more information, type 'help(pylab)'.\n"
       ]
      }
     ],
     "prompt_number": 1
    },
    {
     "cell_type": "code",
     "collapsed": false,
     "input": [
      "import time\n",
      "import pickle\n",
      "import numpy as np\n",
      "import matplotlib.pyplot as plt\n",
      "from numpy.linalg import norm\n",
      "\n",
      "# symbolic math\n",
      "import sympy as sym\n",
      "from sympy.abc import y, B\n",
      "from sympy import pi\n",
      "\n",
      "# jit compiled loops\n",
      "from numba import autojit, jit, double, int_"
     ],
     "language": "python",
     "metadata": {},
     "outputs": [],
     "prompt_number": 2
    },
    {
     "cell_type": "markdown",
     "metadata": {},
     "source": [
      "## Determine source term for code verification study"
     ]
    },
    {
     "cell_type": "code",
     "collapsed": false,
     "input": [
      "Ty = sym.Function('Ty')\n",
      "Ty = 300 + 200 * sym.sin(3 * pi * y / (2 * B))\n",
      "Ty"
     ],
     "language": "python",
     "metadata": {},
     "outputs": [
      {
       "latex": [
        "$$200 \\operatorname{sin}\\left(\\frac{3}{2} \\frac{\\pi y}{B}\\right) + 300$$"
       ],
       "output_type": "pyout",
       "png": "[encoded data removed]",
       "prompt_number": 3,
       "text": [
        "\n",
        "       \u239b3\u22c5\u03c0\u22c5y\u239e      \n",
        "200\u22c5sin\u239c\u2500\u2500\u2500\u2500\u2500\u239f + 300\n",
        "       \u239d 2\u22c5B \u23a0      "
       ]
      }
     ],
     "prompt_number": 3
    },
    {
     "cell_type": "code",
     "collapsed": false,
     "input": [
      "dTy = sym.diff(Ty, y, 1)\n",
      "dTy"
     ],
     "language": "python",
     "metadata": {},
     "outputs": [
      {
       "latex": [
        "$$300 \\frac{\\pi \\operatorname{cos}\\left(\\frac{3}{2} \\frac{\\pi y}{B}\\right)}{B}$$"
       ],
       "output_type": "pyout",
       "png": "[encoded data removed]",
       "prompt_number": 4,
       "text": [
        "\n",
        "         \u239b3\u22c5\u03c0\u22c5y\u239e\n",
        "300\u22c5\u03c0\u22c5cos\u239c\u2500\u2500\u2500\u2500\u2500\u239f\n",
        "         \u239d 2\u22c5B \u23a0\n",
        "\u2500\u2500\u2500\u2500\u2500\u2500\u2500\u2500\u2500\u2500\u2500\u2500\u2500\u2500\u2500\u2500\n",
        "       B        "
       ]
      }
     ],
     "prompt_number": 4
    },
    {
     "cell_type": "code",
     "collapsed": false,
     "input": [
      "ddTy = sym.diff(Ty, y, 2)\n",
      "ddTy"
     ],
     "language": "python",
     "metadata": {},
     "outputs": [
      {
       "latex": [
        "$$- 450 \\frac{\\pi^{2} \\operatorname{sin}\\left(\\frac{3}{2} \\frac{\\pi y}{B}\\right)}{B^{2}}$$"
       ],
       "output_type": "pyout",
       "png": "[encoded data removed]",
       "prompt_number": 5,
       "text": [
        "\n",
        "      2    \u239b3\u22c5\u03c0\u22c5y\u239e\n",
        "-450\u22c5\u03c0 \u22c5sin\u239c\u2500\u2500\u2500\u2500\u2500\u239f\n",
        "           \u239d 2\u22c5B \u23a0\n",
        "\u2500\u2500\u2500\u2500\u2500\u2500\u2500\u2500\u2500\u2500\u2500\u2500\u2500\u2500\u2500\u2500\u2500\u2500\n",
        "         2        \n",
        "        B         "
       ]
      }
     ],
     "prompt_number": 5
    },
    {
     "cell_type": "markdown",
     "metadata": {},
     "source": [
      "# Common functions"
     ]
    },
    {
     "cell_type": "code",
     "collapsed": false,
     "input": [
      "def grid_pts(ngrid, x0=0, x1=1):\n",
      "    \"\"\"Return evenly spaced grid points over the given interval.\n",
      "    \n",
      "    Inputs:\n",
      "        ngrid (int) - number of grid points\n",
      "        x0 (float, optional) - start of grid\n",
      "        x1 (float, optional) - end of grid\n",
      "\n",
      "    Outputs:\n",
      "        grid (array of floats) - vector of grid points\n",
      "        dx (float) - grid spacing\n",
      "    \"\"\"\n",
      "    \n",
      "    grid = np.linspace(x0, x1, ngrid)\n",
      "    assert np.allclose(x0, grid[0])\n",
      "    assert np.allclose(x1, grid[-1])\n",
      "    dx = np.diff(grid)[0]\n",
      "    \n",
      "    return grid, dx\n",
      "\n",
      "\n",
      "def ooa(de2, de1, r=2.):\n",
      "    \"\"\"Observed order of accuracy.\n",
      "\n",
      "    Inputs:\n",
      "        de2 (float) - DE error of coarse mesh\n",
      "        de1 (float) - DE error of fine mesh\n",
      "        r (float, default=2.) - grid refinement factor\n",
      "\n",
      "    Outputs:\n",
      "        phat (float) - observed order of accuracy\n",
      "    \"\"\"\n",
      "    \n",
      "    return np.log(de2 / de1) / np.log(r)\n",
      "\n",
      "\n",
      "def find_phat(DE, r=2.):\n",
      "    \"\"\"Find the observed order of accuracy.\n",
      "    \n",
      "    Inputs:\n",
      "        DE (array) - discretization error using Linf and L2 norms\n",
      "        r (float, default=2.) - refinement factor\n",
      "\n",
      "    Outputs:\n",
      "        phat (array) - observed order of accuracy\n",
      "    \"\"\"\n",
      "\n",
      "    npts = len(DE) - 1\n",
      "    phat = np.zeros((npts, 2))\n",
      "    for i in range(npts):\n",
      "        phat[i] = ooa(DE[i, 0], DE[i+1, 0], r=r), ooa(DE[i, 1], DE[i+1, 1], r=r)\n",
      "\n",
      "    return phat\n",
      "\n",
      "\n",
      "def find_h(grids):\n",
      "    \"\"\"Find the normalized grid spacing `h'.\n",
      "    \n",
      "    Inputs:\n",
      "        grids (array) - possible grid shapes, from smallest to largest\n",
      "\n",
      "    Outputs:\n",
      "        h (array, int) - normalized grid spacing.\n",
      "    \"\"\"\n",
      "\n",
      "    dx = np.zeros(grids.shape)\n",
      "    for i, ngrid in enumerate(grids):\n",
      "        _, dx[i] = grid_pts(ngrid)\n",
      "    h = dx / dx[-1]\n",
      "    \n",
      "    return h.astype(np.int)\n",
      "\n",
      "\n",
      "def find_gci(x2, x1, f2, f1, p, Fs=3, r=2):\n",
      "    \"\"\"Grid Convergence Index using Roache (1994) method.\n",
      "    \n",
      "    This uses the L2 norm when finding the ratio of solutions.\n",
      "\n",
      "    Inputs:\n",
      "        x2 (array) - grid of the coarse mesh\n",
      "        x1 (array) - grid of the fine mesh\n",
      "        f2 (array) - solution on coarse mesh\n",
      "        f1 (array) - solution on fine meash\n",
      "        p (float) - order of accuracy\n",
      "        FS (default=3) - factor of safety\n",
      "        r (default=2) - grid refinement factor\n",
      "    \n",
      "    Outputs:\n",
      "        gci (float) - grid convergence index of fine grid\n",
      "    \"\"\"\n",
      "    \n",
      "    assert len(f1) > len(f2)\n",
      "    assert len(x2) == len(f2)\n",
      "    assert len(x1) == len(x1)\n",
      "    \n",
      "    # common grid points for both meshes\n",
      "    f1_mask = np.in1d(x1, x2)\n",
      "    \n",
      "    c = Fs / (r**p - 1)\n",
      "    gci = c * norm((f2 - f1[f1_mask]) / f1[f1_mask])\n",
      "    \n",
      "    return gci"
     ],
     "language": "python",
     "metadata": {},
     "outputs": [],
     "prompt_number": 275
    },
    {
     "cell_type": "markdown",
     "metadata": {},
     "source": [
      "# Perform a code validation study\n",
      "\n",
      "Peform a code validation study using the steady-state manufactured soluation given by\n",
      "\n",
      "$$ T(x) = 300 + 200 \\sin \\left(\\frac{3 \\pi x}{2 L} \\right) K, \\mbox{  } L = 1m $$"
     ]
    },
    {
     "cell_type": "code",
     "collapsed": false,
     "input": [
      "def exact_p1(x, L=1):\n",
      "    \"\"\"Exact solution for verification.\"\"\"\n",
      "    \n",
      "    return 300. + 200. * np.sin(3 * np.pi * x / (2 * L))\n",
      "\n",
      "\n",
      "def source_p1(x, alpha, L=1):\n",
      "    \"\"\"Source term for manufactured solution.\"\"\"\n",
      "    \n",
      "    return 450. * alpha * (np.pi / L) ** 2 * np.sin(3*np.pi*x / (2*L))\n",
      "\n",
      "\n",
      "def solver_p1(T, f, c, dt, kmax):\n",
      "    \"\"\"Solver for 1D unsteady heat equation.\n",
      "\n",
      "    Inputs:\n",
      "        T (array) - temperature array at inital value\n",
      "        f (array) - source term evaluated at grid points\n",
      "        c (float) - alpha / dx**2\n",
      "        dt (float) - time step\n",
      "        kmax (int) - max number of iterations to perfom\n",
      "    \n",
      "    Returns:\n",
      "        T (array) - numerical solution\n",
      "        L (array) - L2 and Linf of the relative iterative residuals\n",
      "    \"\"\"\n",
      "    \n",
      "    assert len(T) == len(f)\n",
      "    ngrid = len(f)\n",
      "    imin, imax = 1, ngrid - 1\n",
      "    Rtmp = 1.\n",
      "    \n",
      "    R = np.zeros(ngrid)\n",
      "    L = np.zeros((kmax, 2))\n",
      "    \n",
      "    for k in range(kmax):\n",
      "        \n",
      "        # steady-state iterative residual\n",
      "        for i in range(imin, imax):\n",
      "            R[i] =  c * (T[i-1] - 2*T[i] + T[i+1]) + f[i]\n",
      "        Rtmp = norm(R)\n",
      "        L[k] = Rtmp, norm(R, np.inf)\n",
      "        \n",
      "        # update the temperature value\n",
      "        T = T + dt * R\n",
      "        T[0], T[-1] = 300., 100.\n",
      "        \n",
      "        if Rtmp / L[0, 0] <= 1e-14:\n",
      "            break\n",
      "    \n",
      "    L /= L[0]\n",
      "    \n",
      "    return T, L[:k]"
     ],
     "language": "python",
     "metadata": {},
     "outputs": [],
     "prompt_number": 279
    },
    {
     "cell_type": "code",
     "collapsed": false,
     "input": [
      "kmax = 110000\n",
      "x0, x1 = 0, 1\n",
      "alpha = 9.71e-5\n",
      "poss_grids = np.array([5, 9, 17, 33, 65, 129])\n",
      "\n",
      "namet = './data/MMS_{0}_{1}.npy'\n",
      "Tnames, Lnames = [], []\n",
      "save_files = False:\n",
      "\n",
      "for ngrid in poss_grids:\n",
      "    \n",
      "    x, dx = grid_pts(ngrid)\n",
      "    dt = .3 * dx**2 / alpha\n",
      "    c = alpha / dx**2\n",
      "    \n",
      "    f = source_p1(x, alpha)\n",
      "    T = 300. * np.ones(ngrid)\n",
      "    T[0], T[-1] = exact_p1(x0), exact_p1(x1)\n",
      "    \n",
      "    start = time.time()\n",
      "    T, L = solver_p1(T, f, c, dt, kmax)\n",
      "    print('{0} grid pts: {1:.2f} sec'.format(ngrid, time.time() - start))\n",
      "    \n",
      "    if save_files:\n",
      "        Tname = namet.format(ngrid, 'T')\n",
      "        Lname = namet.format(ngrid, 'L')\n",
      "        Tnames.append(Tname)\n",
      "        Lnames.append(Lname)\n",
      "        np.save(Tname, np.c_[x, exact(x), T])\n",
      "        np.save(Lname, L)\n",
      "\n",
      "pickle.dump([Tnames, Lnames], open('./data/MSM_names', 'wb'))"
     ],
     "language": "python",
     "metadata": {},
     "outputs": [
      {
       "output_type": "stream",
       "stream": "stdout",
       "text": [
        "5 grid pts: 0.01 sec\n",
        "9 grid pts: 0.04 sec\n",
        "17 grid pts: 0.18 sec"
       ]
      },
      {
       "output_type": "stream",
       "stream": "stdout",
       "text": [
        "\n",
        "33 grid pts: 1.04 sec"
       ]
      },
      {
       "output_type": "stream",
       "stream": "stdout",
       "text": [
        "\n",
        "65 grid pts: 6.81 sec"
       ]
      },
      {
       "output_type": "stream",
       "stream": "stdout",
       "text": [
        "\n",
        "129 grid pts: 35.99 sec"
       ]
      },
      {
       "output_type": "stream",
       "stream": "stdout",
       "text": [
        "\n"
       ]
      }
     ],
     "prompt_number": 285
    },
    {
     "cell_type": "markdown",
     "metadata": {},
     "source": [
      "## Make plots of solution and relative iterative residual"
     ]
    },
    {
     "cell_type": "code",
     "collapsed": false,
     "input": [
      "fig1, ax = plt.subplots(6, 1, sharex=True)\n",
      "fig2, ax2 = plt.subplots()\n",
      "\n",
      "Tnames, Lnames = pickle.load(open('./data/MSM_names', 'rb'))\n",
      "markers = ['o', '^', 's', 'x', '*', 'v']\n",
      "xx = np.linspace(0, 1, 1000)\n",
      "ex = exact_p1(xx)\n",
      "DE = np.zeros((len(Tnames), 2))\n",
      "\n",
      "for i in range(len(Tnames)):\n",
      "    \n",
      "    Tf, Lf = Tnames[i], Lnames[i]\n",
      "    grid = str(poss_grids[i])\n",
      "    \n",
      "    T, L = np.load(Tf), np.load(Lf)\n",
      "    de = (T[:, 2] - T[:, 1]) / T[:, 1]\n",
      "    DE[i] = norm(de, np.inf), norm(de, 2)\n",
      "    \n",
      "    ax[i].plot(T[:, 0], T[:, 2], color='k', ls='None', marker=markers[i], label='N = {0}'.format(grid))\n",
      "    ax[i].plot(xx, ex, '-k', lw=1.5, alpha=.75)\n",
      "    ax[i].set_yticks(np.arange(100, 600, 100))\n",
      "    ax[i].legend(loc='upper right', frameon=False, numpoints=1)\n",
      "    \n",
      "    ax2.loglog(L[:, 0], 'k', lw=2)\n",
      "    ax2.loglog(L[:, 1], '--k', lw=2)\n",
      "    #ax2.semilogy(L[:, 0], 'k', lw=2)\n",
      "    #ax2.semilogy(L[:, 1], '--k', lw=2)\n",
      "\n",
      "ax[-1].set_xlabel('distance, m')\n",
      "ax[-1].set_ylabel('temp, K')\n",
      "fig1.subplots_adjust(bottom=.08, top=.99)\n",
      "\n",
      "leg = ax1.legend(loc='best', fancybox=True)\n",
      "leg.get_frame().set_alpha(0.5)\n",
      "\n",
      "ax1.set_xlabel('x, m')\n",
      "ax1.set_ylabel('temperature, K');\n",
      "\n",
      "ax2.set_ylabel('relative residual')\n",
      "ax2.set_xlabel('iteration, k')\n",
      "leg = ax2.legend((r'$L_2$', r'$L_\\infty$'), loc='best', fancybox=True)\n",
      "leg.get_frame().set_alpha(0.5)\n",
      "\n",
      "#fig1.savefig('./report/figs/MMS_profiles.eps')\n",
      "#fig2.savefig('./report/figs/MMS_resid.eps')\n",
      "#fig2.savefig('./report/figs/MMS_resid.svg')"
     ],
     "language": "python",
     "metadata": {},
     "outputs": [],
     "prompt_number": 286
    },
    {
     "cell_type": "code",
     "collapsed": false,
     "input": [
      "# find order of accuracy and normalized grid spacing\n",
      "phat = find_phat(DE)\n",
      "h = find_h(poss_grids)\n",
      "\n",
      "\n",
      "fig, (ax1, ax2) = plt.subplots(2, 1, sharex=True)\n",
      "\n",
      "ax1.semilogx(h[1:], phat[:, 0], '-.ks', ms=8, label=r'$L_\\infty$')\n",
      "ax1.semilogx(h[1:], phat[:, 1], '--ko', ms=8, label=r'$L_2$')\n",
      "ax1.grid(True, which='both')\n",
      "\n",
      "ax1.set_ylim(0, 3)\n",
      "ax1.set_ylabel(r'order of accuracy, $\\hat{p}$')\n",
      "ax2.set_ylabel(r'norm of global DE')\n",
      "\n",
      "ax2.loglog(h, DE[:, 0], '-.ks', ms=8, label=r'$L_\\infty$')\n",
      "ax2.loglog(h, DE[:, 1], '--ko', ms=8, label=r'$L_2$')\n",
      "ax2.grid(True, axis='x', which='both')\n",
      "\n",
      "ax2.set_xlim(.75, 40)\n",
      "ax2.set_xlabel('h')\n",
      "ax2.legend(loc='lower right', fancybox=True)\n",
      "\n",
      "fig.tight_layout()\n",
      "\n",
      "fig.savefig('./report/figs/MMS_ooa.eps')\n",
      "\n",
      "#hh = np.linspace(.01, 40, 1000)\n",
      "#offset = -1e-5\n",
      "#ff = 1 * hh - offset\n",
      "#ss = 2 * hh - offset\n",
      "#ax.loglog(hh, ff)\n",
      "#ax.loglog(hh, ss)"
     ],
     "language": "python",
     "metadata": {},
     "outputs": [],
     "prompt_number": 281
    },
    {
     "cell_type": "markdown",
     "metadata": {},
     "source": [
      "# Part 2\n",
      "\n",
      "Numerical solution for the heated bar with a source term."
     ]
    },
    {
     "cell_type": "code",
     "collapsed": false,
     "input": [
      "def source_p2(x):\n",
      "    \"\"\"Source term for part 2.\"\"\"\n",
      "    \n",
      "    return 100 * (.25 * (.75 - np.abs(x - 2./3))) ** 4\n",
      "\n",
      "\n",
      "def solver_p2(T, f, c, dt, kmax, BC=1):\n",
      "    \"\"\"Solver for 1D unsteady heat equation.\n",
      "\n",
      "    Inputs:\n",
      "        T (array) - temperature array at inital value\n",
      "        f (array) - source term evaluated at grid points\n",
      "        c (float) - alpha / dx**2\n",
      "        dt (float) - time step\n",
      "        kmax (int) - max number of iterations to perfom\n",
      "    \n",
      "    Returns:\n",
      "        T (array) - numerical solution\n",
      "        L (array) - L2 and Linf of the relative iterative residuals\n",
      "    \"\"\"\n",
      "    \n",
      "    assert len(T) == len(f)\n",
      "    ngrid = len(f)\n",
      "    imin, imax = 1, ngrid - 1\n",
      "    Rtmp = 1.\n",
      "    Tbc = -200  # K/s\n",
      "    \n",
      "    R = np.zeros(ngrid)\n",
      "    L = np.zeros((kmax, 2))\n",
      "    \n",
      "    for k in range(kmax):\n",
      "        \n",
      "        # steady-state iterative residual\n",
      "        for i in range(imin, imax):\n",
      "            R[i] =  c * (T[i-1] - 2*T[i] + T[i+1]) + f[i]\n",
      "        Rtmp = norm(R)\n",
      "        L[k] = Rtmp, norm(R, np.inf)\n",
      "        \n",
      "        # update the temperature value\n",
      "        T = T + dt * R\n",
      "        \n",
      "        # update the derivative boundary condition\n",
      "        if BC == 1:\n",
      "            T[-1] = T[-2] + dx * Tbc\n",
      "        elif BC == 2:\n",
      "            T[-1] = .5 * (T[-2] + T[-3] + 3 * dx * Tbc)\n",
      "        \n",
      "        if Rtmp / L[0, 0] <= 1e-14:\n",
      "            break\n",
      "    \n",
      "    L /= L[0]\n",
      "    \n",
      "    return T, L"
     ],
     "language": "python",
     "metadata": {},
     "outputs": [],
     "prompt_number": 293
    },
    {
     "cell_type": "code",
     "collapsed": false,
     "input": [
      "kmax = 50000\n",
      "x0, x1 = 0, 1\n",
      "alpha = 9.71e-5\n",
      "poss_grids = np.array([5, 9, 17, 33, 65, 129])\n",
      "\n",
      "ngrid = poss_grids[2]\n",
      "    \n",
      "x, dx = grid_pts(ngrid)\n",
      "dt = .3 * dx**2 / alpha\n",
      "c = alpha / dx**2\n",
      "\n",
      "f = source_p2(x)\n",
      "T = 300. * np.ones(ngrid)\n",
      "\n",
      "start = time.time()\n",
      "T, L = solver_p2(T, f, c, dt, kmax, BC=1)\n",
      "print('{0} grid pts: {1:.2f} sec'.format(ngrid, time.time() - start))\n",
      "\n",
      "\n",
      "## Plot temperature solution\n",
      "fig, ax = plt.subplots()\n",
      "\n",
      "ax.plot(x, T, 'x', label='numerical')\n",
      "\n",
      "leg = ax.legend(loc='best', fancybox=True)\n",
      "leg.get_frame().set_alpha(0.5)\n",
      "\n",
      "ax.set_xlabel('x, m')\n",
      "ax.set_ylabel('temperature, K');\n",
      "\n",
      "\n",
      "## Iterative residual\n",
      "fig, ax = plt.subplots()\n",
      "\n",
      "ax.loglog(L)\n",
      "ax.set_ylabel('relative residual')\n",
      "ax.set_xlabel('iteration, k')"
     ],
     "language": "python",
     "metadata": {},
     "outputs": [
      {
       "output_type": "stream",
       "stream": "stdout",
       "text": [
        "17 grid pts: 3.31 sec\n"
       ]
      },
      {
       "output_type": "pyout",
       "prompt_number": 296,
       "text": [
        "Text(0.5,0,'iteration, k')"
       ]
      }
     ],
     "prompt_number": 296
    },
    {
     "cell_type": "code",
     "collapsed": false,
     "input": [
      "# problem constants\n",
      "alpha = 9.71e-5  # m^2 / s\n",
      "poss_grids = np.array([5, 9, 17, 33, 65, 129])\n",
      "\n",
      "ngrid = poss_grids[1]\n",
      "x0, x1 = 0, 1\n",
      "x, dx = grid_pts(ngrid)\n",
      "dt = .1 * dx**2 / alpha\n",
      "\n",
      "max_iters = 50000\n",
      "\n",
      "f = source_p2(x)\n",
      "T = 300. * np.ones(ngrid)\n",
      "\n",
      "R = np.zeros(ngrid)\n",
      "L = np.zeros((max_iters, 1))\n",
      "\n",
      "# solve the equations\n",
      "T, L = solver_p2(T, f, R, L, alpha, max_iters, dx, dt, BC=1)"
     ],
     "language": "python",
     "metadata": {},
     "outputs": [
      {
       "ename": "TypeError",
       "evalue": "solver_p2() takes exactly 5 arguments (9 given)",
       "output_type": "pyerr",
       "traceback": [
        "\u001b[1;31m---------------------------------------------------------------------------\u001b[0m\n\u001b[1;31mTypeError\u001b[0m                                 Traceback (most recent call last)",
        "\u001b[1;32m<ipython-input-283-01bd137b5120>\u001b[0m in \u001b[0;36m<module>\u001b[1;34m()\u001b[0m\n\u001b[0;32m     17\u001b[0m \u001b[1;33m\u001b[0m\u001b[0m\n\u001b[0;32m     18\u001b[0m \u001b[1;31m# solve the equations\u001b[0m\u001b[1;33m\u001b[0m\u001b[1;33m\u001b[0m\u001b[0m\n\u001b[1;32m---> 19\u001b[1;33m \u001b[0mT\u001b[0m\u001b[1;33m,\u001b[0m \u001b[0mL\u001b[0m \u001b[1;33m=\u001b[0m \u001b[0msolver_p2\u001b[0m\u001b[1;33m(\u001b[0m\u001b[0mT\u001b[0m\u001b[1;33m,\u001b[0m \u001b[0mf\u001b[0m\u001b[1;33m,\u001b[0m \u001b[0mR\u001b[0m\u001b[1;33m,\u001b[0m \u001b[0mL\u001b[0m\u001b[1;33m,\u001b[0m \u001b[0malpha\u001b[0m\u001b[1;33m,\u001b[0m \u001b[0mmax_iters\u001b[0m\u001b[1;33m,\u001b[0m \u001b[0mdx\u001b[0m\u001b[1;33m,\u001b[0m \u001b[0mdt\u001b[0m\u001b[1;33m,\u001b[0m \u001b[0mBC\u001b[0m\u001b[1;33m=\u001b[0m\u001b[1;36m1\u001b[0m\u001b[1;33m)\u001b[0m\u001b[1;33m\u001b[0m\u001b[0m\n\u001b[0m\u001b[0;32m     20\u001b[0m \u001b[1;33m\u001b[0m\u001b[0m\n\u001b[0;32m     21\u001b[0m \u001b[1;33m\u001b[0m\u001b[0m\n",
        "\u001b[1;31mTypeError\u001b[0m: solver_p2() takes exactly 5 arguments (9 given)"
       ]
      }
     ],
     "prompt_number": 283
    },
    {
     "cell_type": "code",
     "collapsed": false,
     "input": [],
     "language": "python",
     "metadata": {},
     "outputs": [
      {
       "output_type": "pyout",
       "prompt_number": 295,
       "text": [
        "Text(0.5,0,'iteration, k')"
       ]
      }
     ],
     "prompt_number": 295
    },
    {
     "cell_type": "code",
     "collapsed": false,
     "input": [
      "x = linspace(0, 1, 1000)\n",
      "plot(x, source_p2(x))"
     ],
     "language": "python",
     "metadata": {},
     "outputs": [
      {
       "output_type": "pyout",
       "prompt_number": 214,
       "text": [
        "[Line2D(_line0)]"
       ]
      },
      {
       "output_type": "display_data",
       "png": "[encoded data removed]"
      }
     ],
     "prompt_number": 214
    },
    {
     "cell_type": "code",
     "collapsed": false,
     "input": [],
     "language": "python",
     "metadata": {},
     "outputs": []
    }
   ],
   "metadata": {}
  }
 ]
}