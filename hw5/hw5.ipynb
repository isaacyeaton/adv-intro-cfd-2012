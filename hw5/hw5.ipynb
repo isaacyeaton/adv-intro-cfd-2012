{
 "metadata": {
  "name": "hw5"
 },
 "nbformat": 3,
 "nbformat_minor": 0,
 "worksheets": [
  {
   "cells": [
    {
     "cell_type": "code",
     "collapsed": false,
     "input": [
      "%pylab inline\n",
      "%load_ext sympyprinting"
     ],
     "language": "python",
     "metadata": {},
     "outputs": [
      {
       "output_type": "stream",
       "stream": "stdout",
       "text": [
        "\n",
        "Welcome to pylab, a matplotlib-based Python environment [backend: module://IPython.zmq.pylab.backend_inline].\n",
        "For more information, type 'help(pylab)'.\n"
       ]
      }
     ],
     "prompt_number": 1
    },
    {
     "cell_type": "code",
     "collapsed": false,
     "input": [
      "import numpy as np\n",
      "import matplotlib.pyplot as plt\n",
      "from numpy.linalg import norm\n",
      "\n",
      "# symbolic math\n",
      "import sympy as sym\n",
      "from sympy.abc import y, B\n",
      "from sympy import pi\n",
      "\n",
      "# jit compiled loops\n",
      "from numba import autojit, jit, double, int_"
     ],
     "language": "python",
     "metadata": {},
     "outputs": [],
     "prompt_number": 2
    },
    {
     "cell_type": "code",
     "collapsed": false,
     "input": [
      "Ty = sym.Function('Ty')\n",
      "Ty = 300 + 200 * sym.sin(3 * pi * y / (2 * B))\n",
      "Ty"
     ],
     "language": "python",
     "metadata": {},
     "outputs": [
      {
       "latex": [
        "$$200 \\operatorname{sin}\\left(\\frac{3}{2} \\frac{\\pi y}{B}\\right) + 300$$"
       ],
       "output_type": "pyout",
       "png": "[encoded data removed]",
       "prompt_number": 3,
       "text": [
        "\n",
        "       \u239b3\u22c5\u03c0\u22c5y\u239e      \n",
        "200\u22c5sin\u239c\u2500\u2500\u2500\u2500\u2500\u239f + 300\n",
        "       \u239d 2\u22c5B \u23a0      "
       ]
      }
     ],
     "prompt_number": 3
    },
    {
     "cell_type": "code",
     "collapsed": false,
     "input": [
      "dTy = sym.diff(Ty, y, 1)\n",
      "dTy"
     ],
     "language": "python",
     "metadata": {},
     "outputs": [
      {
       "latex": [
        "$$300 \\frac{\\pi \\operatorname{cos}\\left(\\frac{3}{2} \\frac{\\pi y}{B}\\right)}{B}$$"
       ],
       "output_type": "pyout",
       "png": "[encoded data removed]",
       "prompt_number": 4,
       "text": [
        "\n",
        "         \u239b3\u22c5\u03c0\u22c5y\u239e\n",
        "300\u22c5\u03c0\u22c5cos\u239c\u2500\u2500\u2500\u2500\u2500\u239f\n",
        "         \u239d 2\u22c5B \u23a0\n",
        "\u2500\u2500\u2500\u2500\u2500\u2500\u2500\u2500\u2500\u2500\u2500\u2500\u2500\u2500\u2500\u2500\n",
        "       B        "
       ]
      }
     ],
     "prompt_number": 4
    },
    {
     "cell_type": "code",
     "collapsed": false,
     "input": [
      "ddTy = sym.diff(Ty, y, 2)\n",
      "ddTy"
     ],
     "language": "python",
     "metadata": {},
     "outputs": [
      {
       "latex": [
        "$$- 450 \\frac{\\pi^{2} \\operatorname{sin}\\left(\\frac{3}{2} \\frac{\\pi y}{B}\\right)}{B^{2}}$$"
       ],
       "output_type": "pyout",
       "png": "[encoded data removed]",
       "prompt_number": 5,
       "text": [
        "\n",
        "      2    \u239b3\u22c5\u03c0\u22c5y\u239e\n",
        "-450\u22c5\u03c0 \u22c5sin\u239c\u2500\u2500\u2500\u2500\u2500\u239f\n",
        "           \u239d 2\u22c5B \u23a0\n",
        "\u2500\u2500\u2500\u2500\u2500\u2500\u2500\u2500\u2500\u2500\u2500\u2500\u2500\u2500\u2500\u2500\u2500\u2500\n",
        "         2        \n",
        "        B         "
       ]
      }
     ],
     "prompt_number": 5
    },
    {
     "cell_type": "markdown",
     "metadata": {},
     "source": [
      "## Perform a code validation study\n",
      "\n",
      "Peform a code validation study using the steady-state manufactured soluation given by\n",
      "\n",
      "$$ T(x) = 300 + 200 \\sin \\left(\\frac{3 \\pi x}{2 L} \\right) K, \\mbox{  } L = 1m $$"
     ]
    },
    {
     "cell_type": "code",
     "collapsed": false,
     "input": [
      "def grid_pts(ngrid, x0=0, x1=1):\n",
      "    \"\"\"Return evenly spaced grid points over the given interval.\n",
      "    \n",
      "    Inputs:\n",
      "        ngrid (int) - number of grid points\n",
      "        x0 (float, optional) - start of grid\n",
      "        x1 (float, optional) - end of grid\n",
      "\n",
      "    Outputs:\n",
      "        grid (array of floats) - vector of grid points\n",
      "        dx (float) - grid spacing\n",
      "    \"\"\"\n",
      "    \n",
      "    grid = np.linspace(x0, x1, ngrid)\n",
      "    assert np.allclose(x0, grid[0])\n",
      "    assert np.allclose(x1, grid[-1])\n",
      "    dx = np.diff(grid)[0]\n",
      "    \n",
      "    return grid, dx"
     ],
     "language": "python",
     "metadata": {},
     "outputs": [],
     "prompt_number": 6
    },
    {
     "cell_type": "markdown",
     "metadata": {},
     "source": [
      "Part 1\n",
      "------\n",
      "\n",
      "Perform a code verification"
     ]
    },
    {
     "cell_type": "code",
     "collapsed": false,
     "input": [
      "def exact(x, L=1):\n",
      "    \"\"\"Exact solution for verification.\"\"\"\n",
      "    \n",
      "    return 300. + 200. * np.sin(3 * np.pi * x / (2 * L))\n",
      "\n",
      "\n",
      "def source(x, alpha, L=1):\n",
      "    \"\"\"Source term to solve for.\"\"\"\n",
      "    \n",
      "    return 450. * alpha * (np.pi / L) ** 2 * np.sin(3*np.pi*x / (2*L))\n",
      "\n",
      "\n",
      "def solver(T, f, R, L, alpha, max_iters, dx, dt):\n",
      "    \"\"\"Solver for 1D unsteady heat equation.\"\"\"\n",
      "    \n",
      "    ngrid = len(f)\n",
      "    imin, imax = 1, ngrid - 1\n",
      "    c = alpha / dx**2\n",
      "    Rtmp = 1.\n",
      "    \n",
      "    for k in range(max_iters):\n",
      "        \n",
      "        # steady-state iterative residual\n",
      "        for i in range(imin, imax):\n",
      "            R[i] =  c * (T[i-1] - 2*T[i] + T[i+1]) + f[i]\n",
      "        Rtmp = norm(R)\n",
      "        L[k] = Rtmp\n",
      "        \n",
      "        # update the temperature value\n",
      "        T = T + dt * R\n",
      "        #T[0], T[-1] = 300., 100.\n",
      "        \n",
      "        if Rtmp / L[0] <= 1e-14:\n",
      "            break\n",
      "    \n",
      "    L /= L[0]\n",
      "    \n",
      "    return T, L"
     ],
     "language": "python",
     "metadata": {},
     "outputs": [],
     "prompt_number": 202
    },
    {
     "cell_type": "code",
     "collapsed": false,
     "input": [
      "# problem constants\n",
      "alpha = 9.71e-5  # m^2 / s\n",
      "poss_grids = np.array([5, 9, 17, 33, 65, 129])\n",
      "\n",
      "ngrid = poss_grids[1]\n",
      "x0, x1 = 0, 1\n",
      "x, dx = grid_pts(ngrid)\n",
      "dt = .1 * dx**2 / alpha\n",
      "\n",
      "max_iters = 50000\n",
      "\n",
      "f = source(x, alpha)\n",
      "T = 300. * np.ones(ngrid)\n",
      "T[0], T[-1] = exact(x0), exact(x1)\n",
      "\n",
      "R = np.zeros(ngrid)\n",
      "L = np.zeros((max_iters, 1))\n",
      "\n",
      "# solve the equations\n",
      "T, L = solver(T, f, R, L, alpha, max_iters, dx, dt)\n",
      "\n",
      "\n",
      "\n",
      "## Plot temperature solution\n",
      "fig, ax = plt.subplots()\n",
      "\n",
      "ax.plot(x, T, 'x', label='numerical')\n",
      "ax.plot(x, exact(x), label='exact')\n",
      "\n",
      "leg = ax.legend(loc='best', fancybox=True)\n",
      "leg.get_frame().set_alpha(0.5)\n",
      "\n",
      "ax.set_xlabel('x, m')\n",
      "ax.set_ylabel('temperature, K');\n",
      "\n",
      "\n",
      "## Iterative residual\n",
      "fig, ax = plt.subplots()\n",
      "\n",
      "ax.loglog(L)\n",
      "ax.set_ylabel('relative residual')\n",
      "ax.set_xlabel('iteration, k')"
     ],
     "language": "python",
     "metadata": {},
     "outputs": [
      {
       "output_type": "pyout",
       "prompt_number": 203,
       "text": [
        "Text(0.5,0,'iteration, k')"
       ]
      },
      {
       "output_type": "display_data",
       "png": "[encoded data removed]"
      },
      {
       "output_type": "display_data",
       "png": "[encoded data removed]"
      }
     ],
     "prompt_number": 203
    },
    {
     "cell_type": "markdown",
     "metadata": {},
     "source": [
      "### Observed order of accuracy"
     ]
    },
    {
     "cell_type": "code",
     "collapsed": false,
     "input": [
      "def ooa(de2, de1, r=2):\n",
      "    \"\"\"Observed order of accuracy.\n",
      "\n",
      "    Inputs:\n",
      "        de2 (array) - DE error of fine run\n",
      "        de1 (array) - DE error of coarse run\n",
      "        r (float, default=2) - grid refinement factor\n",
      "\n",
      "    Outputs:\n",
      "        phat (float) - observed order of accuracy\n",
      "    \"\"\"\n",
      "    \n",
      "    n2 = np.norm(de2)\n",
      "    n1 = np.norm(de1)\n",
      "    phat = np.log(n2 / n1) / np.log(r)\n",
      "    \n",
      "    return phat"
     ],
     "language": "python",
     "metadata": {},
     "outputs": [],
     "prompt_number": 47
    },
    {
     "cell_type": "markdown",
     "metadata": {},
     "source": [
      "# Part 2\n",
      "\n",
      "Compute solution to heated bar"
     ]
    },
    {
     "cell_type": "code",
     "collapsed": false,
     "input": [
      "def _source_p2(x, L=1):\n",
      "    \"\"\"Source term for part 2.\"\"\"\n",
      "    \n",
      "    if x >= 0.25 or x <= 0.75:\n",
      "        val = 100 * (.25 * (.75 - np.abs(x - 2./3))) ** 4\n",
      "    else:\n",
      "        val = 0\n",
      "    \n",
      "    return val\n",
      "\n",
      "source_p2 = np.vectorize(_source_p2)"
     ],
     "language": "python",
     "metadata": {},
     "outputs": [],
     "prompt_number": 204
    },
    {
     "cell_type": "code",
     "collapsed": false,
     "input": [
      "x = linspace(0, 1, 1000)\n",
      "plot(x, source_p2(x))"
     ],
     "language": "python",
     "metadata": {},
     "outputs": [
      {
       "output_type": "pyout",
       "prompt_number": 209,
       "text": [
        "[Line2D(_line0)]"
       ]
      },
      {
       "output_type": "display_data",
       "png": "[encoded data removed]"
      }
     ],
     "prompt_number": 209
    },
    {
     "cell_type": "code",
     "collapsed": false,
     "input": [],
     "language": "python",
     "metadata": {},
     "outputs": []
    }
   ],
   "metadata": {}
  }
 ]
}